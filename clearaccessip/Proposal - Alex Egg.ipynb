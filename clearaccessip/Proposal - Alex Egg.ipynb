{
 "cells": [
  {
   "cell_type": "markdown",
   "metadata": {},
   "source": [
    "# ClearAccess IP Proposal\n",
    "\n",
    "IP Database Semantic Search. We will propose a method to search a database of patent filings and return a listed ranked by semantic relevance. \n",
    "\n",
    "## Latent Semantic Analysis\n",
    "\n",
    "* Semantic analysis adds structure to unstructured text. It helps uncover hidden relationships and automatically standardises/normalises metadata across large document collections.\n",
    "* Latent Semantic Analysis (LSA) is a framework for analyzing text using matrices\n",
    "* Find relationships between documents and terms within documents\n",
    "* Used for document **classification**, **clustering**\n",
    "\n",
    "## Vectorizing text\n",
    "* Most **machine-learning** and statistical algorithms only work with structured, tabular data\n",
    "* A simple way to add structure to text is to use a document-term matrix\n",
    "* Named Entity Recognition - Extraction of People, Places, Organisations, Times, Email addresses.. from text.\n",
    "\n",
    "## Document-term matrix\n",
    "\n",
    "We will model each patent document as a row in a matrix:"
   ]
  },
  {
   "cell_type": "code",
   "execution_count": 2,
   "metadata": {
    "collapsed": true
   },
   "outputs": [],
   "source": [
    "# Initial import statements\n",
    "import sklearn\n",
    "import numpy\n",
    "from __future__ import print_function\n",
    "from sklearn.decomposition import TruncatedSVD\n",
    "from sklearn.feature_extraction.text import TfidfVectorizer\n",
    "from sklearn.feature_extraction.text import CountVectorizer\n",
    "from sklearn.preprocessing import Normalizer\n",
    "from sklearn import metrics\n",
    "from sklearn.cluster import KMeans, MiniBatchKMeans\n",
    "import pandas as pd\n",
    "import warnings\n",
    "# Suppress warnings from pandas library\n",
    "warnings.filterwarnings(\"ignore\", category=DeprecationWarning,\n",
    "module=\"pandas\", lineno=570)"
   ]
  },
  {
   "cell_type": "code",
   "execution_count": 25,
   "metadata": {
    "collapsed": false
   },
   "outputs": [
    {
     "data": {
      "text/html": [
       "<div>\n",
       "<table border=\"1\" class=\"dataframe\">\n",
       "  <thead>\n",
       "    <tr style=\"text-align: right;\">\n",
       "      <th></th>\n",
       "      <th>cool</th>\n",
       "      <th>data</th>\n",
       "      <th>football</th>\n",
       "      <th>fun</th>\n",
       "      <th>great</th>\n",
       "      <th>learning</th>\n",
       "      <th>like</th>\n",
       "      <th>machine</th>\n",
       "      <th>python</th>\n",
       "      <th>science</th>\n",
       "      <th>statistics</th>\n",
       "      <th>super</th>\n",
       "      <th>watch</th>\n",
       "    </tr>\n",
       "  </thead>\n",
       "  <tbody>\n",
       "    <tr>\n",
       "      <th>Machine learning is super fun</th>\n",
       "      <td>0</td>\n",
       "      <td>0</td>\n",
       "      <td>0</td>\n",
       "      <td>1</td>\n",
       "      <td>0</td>\n",
       "      <td>1</td>\n",
       "      <td>0</td>\n",
       "      <td>1</td>\n",
       "      <td>0</td>\n",
       "      <td>0</td>\n",
       "      <td>0</td>\n",
       "      <td>1</td>\n",
       "      <td>0</td>\n",
       "    </tr>\n",
       "    <tr>\n",
       "      <th>Python is super, super cool</th>\n",
       "      <td>1</td>\n",
       "      <td>0</td>\n",
       "      <td>0</td>\n",
       "      <td>0</td>\n",
       "      <td>0</td>\n",
       "      <td>0</td>\n",
       "      <td>0</td>\n",
       "      <td>0</td>\n",
       "      <td>1</td>\n",
       "      <td>0</td>\n",
       "      <td>0</td>\n",
       "      <td>2</td>\n",
       "      <td>0</td>\n",
       "    </tr>\n",
       "    <tr>\n",
       "      <th>Statistics is cool, too</th>\n",
       "      <td>1</td>\n",
       "      <td>0</td>\n",
       "      <td>0</td>\n",
       "      <td>0</td>\n",
       "      <td>0</td>\n",
       "      <td>0</td>\n",
       "      <td>0</td>\n",
       "      <td>0</td>\n",
       "      <td>0</td>\n",
       "      <td>0</td>\n",
       "      <td>1</td>\n",
       "      <td>0</td>\n",
       "      <td>0</td>\n",
       "    </tr>\n",
       "    <tr>\n",
       "      <th>Data science is fun</th>\n",
       "      <td>0</td>\n",
       "      <td>1</td>\n",
       "      <td>0</td>\n",
       "      <td>1</td>\n",
       "      <td>0</td>\n",
       "      <td>0</td>\n",
       "      <td>0</td>\n",
       "      <td>0</td>\n",
       "      <td>0</td>\n",
       "      <td>1</td>\n",
       "      <td>0</td>\n",
       "      <td>0</td>\n",
       "      <td>0</td>\n",
       "    </tr>\n",
       "    <tr>\n",
       "      <th>Python is great for machine learning</th>\n",
       "      <td>0</td>\n",
       "      <td>0</td>\n",
       "      <td>0</td>\n",
       "      <td>0</td>\n",
       "      <td>1</td>\n",
       "      <td>1</td>\n",
       "      <td>0</td>\n",
       "      <td>1</td>\n",
       "      <td>1</td>\n",
       "      <td>0</td>\n",
       "      <td>0</td>\n",
       "      <td>0</td>\n",
       "      <td>0</td>\n",
       "    </tr>\n",
       "    <tr>\n",
       "      <th>I like football</th>\n",
       "      <td>0</td>\n",
       "      <td>0</td>\n",
       "      <td>1</td>\n",
       "      <td>0</td>\n",
       "      <td>0</td>\n",
       "      <td>0</td>\n",
       "      <td>1</td>\n",
       "      <td>0</td>\n",
       "      <td>0</td>\n",
       "      <td>0</td>\n",
       "      <td>0</td>\n",
       "      <td>0</td>\n",
       "      <td>0</td>\n",
       "    </tr>\n",
       "    <tr>\n",
       "      <th>Football is great to watch</th>\n",
       "      <td>0</td>\n",
       "      <td>0</td>\n",
       "      <td>1</td>\n",
       "      <td>0</td>\n",
       "      <td>1</td>\n",
       "      <td>0</td>\n",
       "      <td>0</td>\n",
       "      <td>0</td>\n",
       "      <td>0</td>\n",
       "      <td>0</td>\n",
       "      <td>0</td>\n",
       "      <td>0</td>\n",
       "      <td>1</td>\n",
       "    </tr>\n",
       "  </tbody>\n",
       "</table>\n",
       "</div>"
      ],
      "text/plain": [
       "                                      cool  data  football  fun  great  \\\n",
       "Machine learning is super fun            0     0         0    1      0   \n",
       "Python is super, super cool              1     0         0    0      0   \n",
       "Statistics is cool, too                  1     0         0    0      0   \n",
       "Data science is fun                      0     1         0    1      0   \n",
       "Python is great for machine learning     0     0         0    0      1   \n",
       "I like football                          0     0         1    0      0   \n",
       "Football is great to watch               0     0         1    0      1   \n",
       "\n",
       "                                      learning  like  machine  python  \\\n",
       "Machine learning is super fun                1     0        1       0   \n",
       "Python is super, super cool                  0     0        0       1   \n",
       "Statistics is cool, too                      0     0        0       0   \n",
       "Data science is fun                          0     0        0       0   \n",
       "Python is great for machine learning         1     0        1       1   \n",
       "I like football                              0     1        0       0   \n",
       "Football is great to watch                   0     0        0       0   \n",
       "\n",
       "                                      science  statistics  super  watch  \n",
       "Machine learning is super fun               0           0      1      0  \n",
       "Python is super, super cool                 0           0      2      0  \n",
       "Statistics is cool, too                     0           1      0      0  \n",
       "Data science is fun                         1           0      0      0  \n",
       "Python is great for machine learning        0           0      0      0  \n",
       "I like football                             0           0      0      0  \n",
       "Football is great to watch                  0           0      0      1  "
      ]
     },
     "execution_count": 25,
     "metadata": {},
     "output_type": "execute_result"
    }
   ],
   "source": [
    "example = [\"Machine learning is super fun\",\n",
    "\"Python is super, super cool\",\n",
    "\"Statistics is cool, too\",\n",
    "\"Data science is fun\",\n",
    "\"Python is great for machine learning\",\n",
    "\"I like football\",\n",
    "\"Football is great to watch\"]\n",
    "vectorizer = CountVectorizer(min_df = 1, stop_words = 'english')\n",
    "dtm = vectorizer.fit_transform(example)\n",
    "pd.DataFrame(dtm.toarray(),index=example,columns=vectorizer.get_feature_names\n",
    "()).head(10)"
   ]
  },
  {
   "cell_type": "markdown",
   "metadata": {},
   "source": [
    "* Each row represents a document -- **this would be patent document**. Each column represents a word. So each document is a N-dim (13 in this case) vector.\n",
    "* Each entry equals the number of times the word appears in the document\n",
    "* Note: order and proximity of words in documents is NOT accounted for. Called a \"bag of words\"\n",
    "representation. "
   ]
  },
  {
   "cell_type": "code",
   "execution_count": 6,
   "metadata": {
    "collapsed": false
   },
   "outputs": [
    {
     "data": {
      "text/plain": [
       "[u'cool',\n",
       " u'data',\n",
       " u'football',\n",
       " u'fun',\n",
       " u'great',\n",
       " u'learning',\n",
       " u'like',\n",
       " u'machine',\n",
       " u'python',\n",
       " u'science',\n",
       " u'statistics',\n",
       " u'super',\n",
       " u'watch']"
      ]
     },
     "execution_count": 6,
     "metadata": {},
     "output_type": "execute_result"
    }
   ],
   "source": [
    "# Get words that correspond to each column\n",
    "vectorizer.get_feature_names()"
   ]
  },
  {
   "cell_type": "markdown",
   "metadata": {},
   "source": [
    "* Example: \"machine\" appears once in the first document, \"super\" appears twice in the second document, and\n",
    "\"statistics\" appears zero times in the third document."
   ]
  },
  {
   "cell_type": "markdown",
   "metadata": {},
   "source": [
    "## Singular value decomposition and LSA"
   ]
  },
  {
   "cell_type": "code",
   "execution_count": 8,
   "metadata": {
    "collapsed": true
   },
   "outputs": [],
   "source": [
    "# Fit LSA. Use algorithm = “randomized” for large datasets\n",
    "lsa = TruncatedSVD(2, algorithm = 'arpack')\n",
    "dtm_lsa = lsa.fit_transform(dtm)\n",
    "dtm_lsa = Normalizer(copy=False).fit_transform(dtm_lsa)"
   ]
  },
  {
   "cell_type": "markdown",
   "metadata": {},
   "source": [
    "* Each LSA component is a linear combination of words"
   ]
  },
  {
   "cell_type": "code",
   "execution_count": 10,
   "metadata": {
    "collapsed": false
   },
   "outputs": [
    {
     "data": {
      "text/html": [
       "<div>\n",
       "<table border=\"1\" class=\"dataframe\">\n",
       "  <thead>\n",
       "    <tr style=\"text-align: right;\">\n",
       "      <th></th>\n",
       "      <th>cool</th>\n",
       "      <th>data</th>\n",
       "      <th>football</th>\n",
       "      <th>fun</th>\n",
       "      <th>great</th>\n",
       "      <th>learning</th>\n",
       "      <th>like</th>\n",
       "      <th>machine</th>\n",
       "      <th>python</th>\n",
       "      <th>science</th>\n",
       "      <th>statistics</th>\n",
       "      <th>super</th>\n",
       "      <th>watch</th>\n",
       "    </tr>\n",
       "  </thead>\n",
       "  <tbody>\n",
       "    <tr>\n",
       "      <th>component_1</th>\n",
       "      <td>0.280004</td>\n",
       "      <td>0.035353</td>\n",
       "      <td>0.033417</td>\n",
       "      <td>0.223993</td>\n",
       "      <td>0.178307</td>\n",
       "      <td>0.338085</td>\n",
       "      <td>0.004555</td>\n",
       "      <td>0.338085</td>\n",
       "      <td>0.391281</td>\n",
       "      <td>0.035353</td>\n",
       "      <td>0.038169</td>\n",
       "      <td>0.672310</td>\n",
       "      <td>0.028861</td>\n",
       "    </tr>\n",
       "    <tr>\n",
       "      <th>component_2</th>\n",
       "      <td>0.365270</td>\n",
       "      <td>-0.064548</td>\n",
       "      <td>-0.298349</td>\n",
       "      <td>-0.168056</td>\n",
       "      <td>-0.478428</td>\n",
       "      <td>-0.366379</td>\n",
       "      <td>-0.082792</td>\n",
       "      <td>-0.366379</td>\n",
       "      <td>0.001036</td>\n",
       "      <td>-0.064548</td>\n",
       "      <td>0.101363</td>\n",
       "      <td>0.424306</td>\n",
       "      <td>-0.215557</td>\n",
       "    </tr>\n",
       "  </tbody>\n",
       "</table>\n",
       "</div>"
      ],
      "text/plain": [
       "                 cool      data  football       fun     great  learning  \\\n",
       "component_1  0.280004  0.035353  0.033417  0.223993  0.178307  0.338085   \n",
       "component_2  0.365270 -0.064548 -0.298349 -0.168056 -0.478428 -0.366379   \n",
       "\n",
       "                 like   machine    python   science  statistics     super  \\\n",
       "component_1  0.004555  0.338085  0.391281  0.035353    0.038169  0.672310   \n",
       "component_2 -0.082792 -0.366379  0.001036 -0.064548    0.101363  0.424306   \n",
       "\n",
       "                watch  \n",
       "component_1  0.028861  \n",
       "component_2 -0.215557  "
      ]
     },
     "execution_count": 10,
     "metadata": {},
     "output_type": "execute_result"
    }
   ],
   "source": [
    "pd.DataFrame(lsa.components_,index = [\"component_1\",\"component_2\"],columns =\n",
    "vectorizer.get_feature_names())"
   ]
  },
  {
   "cell_type": "markdown",
   "metadata": {},
   "source": [
    "* Each document is a linear combination of the LSA components"
   ]
  },
  {
   "cell_type": "code",
   "execution_count": 13,
   "metadata": {
    "collapsed": false
   },
   "outputs": [
    {
     "data": {
      "text/html": [
       "<div>\n",
       "<table border=\"1\" class=\"dataframe\">\n",
       "  <thead>\n",
       "    <tr style=\"text-align: right;\">\n",
       "      <th></th>\n",
       "      <th>component_1</th>\n",
       "      <th>component_2</th>\n",
       "    </tr>\n",
       "  </thead>\n",
       "  <tbody>\n",
       "    <tr>\n",
       "      <th>Machine learning is super fun</th>\n",
       "      <td>0.957024</td>\n",
       "      <td>-0.290007</td>\n",
       "    </tr>\n",
       "    <tr>\n",
       "      <th>Python is super, super cool</th>\n",
       "      <td>0.856484</td>\n",
       "      <td>0.516174</td>\n",
       "    </tr>\n",
       "    <tr>\n",
       "      <th>Statistics is cool, too</th>\n",
       "      <td>0.563355</td>\n",
       "      <td>0.826215</td>\n",
       "    </tr>\n",
       "    <tr>\n",
       "      <th>Data science is fun</th>\n",
       "      <td>0.704171</td>\n",
       "      <td>-0.710030</td>\n",
       "    </tr>\n",
       "    <tr>\n",
       "      <th>Python is great for machine learning</th>\n",
       "      <td>0.717284</td>\n",
       "      <td>-0.696781</td>\n",
       "    </tr>\n",
       "    <tr>\n",
       "      <th>I like football</th>\n",
       "      <td>0.099136</td>\n",
       "      <td>-0.995074</td>\n",
       "    </tr>\n",
       "    <tr>\n",
       "      <th>Football is great to watch</th>\n",
       "      <td>0.235618</td>\n",
       "      <td>-0.971846</td>\n",
       "    </tr>\n",
       "  </tbody>\n",
       "</table>\n",
       "</div>"
      ],
      "text/plain": [
       "                                      component_1  component_2\n",
       "Machine learning is super fun            0.957024    -0.290007\n",
       "Python is super, super cool              0.856484     0.516174\n",
       "Statistics is cool, too                  0.563355     0.826215\n",
       "Data science is fun                      0.704171    -0.710030\n",
       "Python is great for machine learning     0.717284    -0.696781\n",
       "I like football                          0.099136    -0.995074\n",
       "Football is great to watch               0.235618    -0.971846"
      ]
     },
     "execution_count": 13,
     "metadata": {},
     "output_type": "execute_result"
    }
   ],
   "source": [
    "pd.DataFrame(dtm_lsa, index = example, columns = [\"component_1\",\"component_2\"])"
   ]
  },
  {
   "cell_type": "code",
   "execution_count": 15,
   "metadata": {
    "collapsed": false
   },
   "outputs": [
    {
     "data": {
      "text/plain": [
       "([0.95702439393037975,\n",
       "  0.85648370973755417,\n",
       "  0.56335489155638685,\n",
       "  0.7041710879980152,\n",
       "  0.71728390345517168,\n",
       "  0.099136388426341912,\n",
       "  0.23561831047045345],\n",
       " [-0.29000742994307804,\n",
       "  0.51617405490221724,\n",
       "  0.82621502416713011,\n",
       "  -0.71003033655449643,\n",
       "  -0.69678102861954549,\n",
       "  -0.9950738547915835,\n",
       "  -0.97184567281593071])"
      ]
     },
     "execution_count": 15,
     "metadata": {},
     "output_type": "execute_result"
    }
   ],
   "source": [
    "xs = [w[0] for w in dtm_lsa]\n",
    "ys = [w[1] for w in dtm_lsa]\n",
    "xs, ys"
   ]
  },
  {
   "cell_type": "code",
   "execution_count": 18,
   "metadata": {
    "collapsed": false
   },
   "outputs": [
    {
     "name": "stdout",
     "output_type": "stream",
     "text": [
      "Populating the interactive namespace from numpy and matplotlib\n"
     ]
    },
    {
     "data": {
      "image/png": "[encoded data removed]",
      "text/plain": [
       "<matplotlib.figure.Figure at 0x10a477450>"
      ]
     },
     "metadata": {},
     "output_type": "display_data"
    }
   ],
   "source": [
    "#Plot scatter plot of points\n",
    "%pylab inline\n",
    "import matplotlib.pyplot as plt\n",
    "figure()\n",
    "plt.scatter(xs,ys)\n",
    "xlabel('First principal component')\n",
    "ylabel('Second principal component')\n",
    "title('Plot of points against LSA principal components')\n",
    "show()"
   ]
  },
  {
   "cell_type": "markdown",
   "metadata": {},
   "source": [
    "## Geometric picture"
   ]
  },
  {
   "cell_type": "code",
   "execution_count": 20,
   "metadata": {
    "collapsed": false
   },
   "outputs": [
    {
     "name": "stdout",
     "output_type": "stream",
     "text": [
      "Populating the interactive namespace from numpy and matplotlib\n"
     ]
    },
    {
     "data": {
      "image/png": "[encoded data removed]",
      "text/plain": [
       "<matplotlib.figure.Figure at 0x10a477e50>"
      ]
     },
     "metadata": {},
     "output_type": "display_data"
    }
   ],
   "source": [
    "# Plot scatter plot of points with vectors\n",
    "%pylab inline\n",
    "import matplotlib.pyplot as plt\n",
    "plt.figure()\n",
    "ax = plt.gca()\n",
    "ax.quiver(0,0,xs,ys,angles='xy',scale_units='xy',scale=1, linewidth = .01)\n",
    "ax.set_xlim([-1,1])\n",
    "ax.set_ylim([-1,1])\n",
    "xlabel('First principal component')\n",
    "ylabel('Second principal component')\n",
    "title('Plot of points against LSA principal components')\n",
    "plt.draw()\n",
    "plt.show()"
   ]
  },
  {
   "cell_type": "markdown",
   "metadata": {},
   "source": [
    "* We have reduced dimension from 13-dim to 2-dim (and have lost some info)\n",
    "* Similar docs point in similar directions. Dissimilar docs have perpendicular (orthogonal) vectors. \"Cosine\n",
    "similarity\"\n",
    "* Can use cosine similarity for search: which doc has the smallest angle with search term?"
   ]
  },
  {
   "cell_type": "markdown",
   "metadata": {},
   "source": [
    "## Document similarity using LSA"
   ]
  },
  {
   "cell_type": "code",
   "execution_count": 22,
   "metadata": {
    "collapsed": false
   },
   "outputs": [
    {
     "data": {
      "text/html": [
       "<div>\n",
       "<table border=\"1\" class=\"dataframe\">\n",
       "  <thead>\n",
       "    <tr style=\"text-align: right;\">\n",
       "      <th></th>\n",
       "      <th>Machine learning is super fun</th>\n",
       "      <th>Python is super, super cool</th>\n",
       "      <th>Statistics is cool, too</th>\n",
       "      <th>Data science is fun</th>\n",
       "      <th>Python is great for machine learning</th>\n",
       "      <th>I like football</th>\n",
       "      <th>Football is great to watch</th>\n",
       "    </tr>\n",
       "  </thead>\n",
       "  <tbody>\n",
       "    <tr>\n",
       "      <th>Machine learning is super fun</th>\n",
       "      <td>1.000000</td>\n",
       "      <td>0.669981</td>\n",
       "      <td>0.299536</td>\n",
       "      <td>0.879823</td>\n",
       "      <td>0.888530</td>\n",
       "      <td>0.383455</td>\n",
       "      <td>0.507335</td>\n",
       "    </tr>\n",
       "    <tr>\n",
       "      <th>Python is super, super cool</th>\n",
       "      <td>0.669981</td>\n",
       "      <td>1.000000</td>\n",
       "      <td>0.908975</td>\n",
       "      <td>0.236612</td>\n",
       "      <td>0.254682</td>\n",
       "      <td>-0.428723</td>\n",
       "      <td>-0.299838</td>\n",
       "    </tr>\n",
       "    <tr>\n",
       "      <th>Statistics is cool, too</th>\n",
       "      <td>0.299536</td>\n",
       "      <td>0.908975</td>\n",
       "      <td>1.000000</td>\n",
       "      <td>-0.189940</td>\n",
       "      <td>-0.171606</td>\n",
       "      <td>-0.766296</td>\n",
       "      <td>-0.670217</td>\n",
       "    </tr>\n",
       "    <tr>\n",
       "      <th>Data science is fun</th>\n",
       "      <td>0.879823</td>\n",
       "      <td>0.236612</td>\n",
       "      <td>-0.189940</td>\n",
       "      <td>1.000000</td>\n",
       "      <td>0.999826</td>\n",
       "      <td>0.776342</td>\n",
       "      <td>0.855956</td>\n",
       "    </tr>\n",
       "    <tr>\n",
       "      <th>Python is great for machine learning</th>\n",
       "      <td>0.888530</td>\n",
       "      <td>0.254682</td>\n",
       "      <td>-0.171606</td>\n",
       "      <td>0.999826</td>\n",
       "      <td>1.000000</td>\n",
       "      <td>0.764458</td>\n",
       "      <td>0.846169</td>\n",
       "    </tr>\n",
       "    <tr>\n",
       "      <th>I like football</th>\n",
       "      <td>0.383455</td>\n",
       "      <td>-0.428723</td>\n",
       "      <td>-0.766296</td>\n",
       "      <td>0.776342</td>\n",
       "      <td>0.764458</td>\n",
       "      <td>1.000000</td>\n",
       "      <td>0.990417</td>\n",
       "    </tr>\n",
       "    <tr>\n",
       "      <th>Football is great to watch</th>\n",
       "      <td>0.507335</td>\n",
       "      <td>-0.299838</td>\n",
       "      <td>-0.670217</td>\n",
       "      <td>0.855956</td>\n",
       "      <td>0.846169</td>\n",
       "      <td>0.990417</td>\n",
       "      <td>1.000000</td>\n",
       "    </tr>\n",
       "  </tbody>\n",
       "</table>\n",
       "</div>"
      ],
      "text/plain": [
       "                                      Machine learning is super fun  \\\n",
       "Machine learning is super fun                              1.000000   \n",
       "Python is super, super cool                                0.669981   \n",
       "Statistics is cool, too                                    0.299536   \n",
       "Data science is fun                                        0.879823   \n",
       "Python is great for machine learning                       0.888530   \n",
       "I like football                                            0.383455   \n",
       "Football is great to watch                                 0.507335   \n",
       "\n",
       "                                      Python is super, super cool  \\\n",
       "Machine learning is super fun                            0.669981   \n",
       "Python is super, super cool                              1.000000   \n",
       "Statistics is cool, too                                  0.908975   \n",
       "Data science is fun                                      0.236612   \n",
       "Python is great for machine learning                     0.254682   \n",
       "I like football                                         -0.428723   \n",
       "Football is great to watch                              -0.299838   \n",
       "\n",
       "                                      Statistics is cool, too  \\\n",
       "Machine learning is super fun                        0.299536   \n",
       "Python is super, super cool                          0.908975   \n",
       "Statistics is cool, too                              1.000000   \n",
       "Data science is fun                                 -0.189940   \n",
       "Python is great for machine learning                -0.171606   \n",
       "I like football                                     -0.766296   \n",
       "Football is great to watch                          -0.670217   \n",
       "\n",
       "                                      Data science is fun  \\\n",
       "Machine learning is super fun                    0.879823   \n",
       "Python is super, super cool                      0.236612   \n",
       "Statistics is cool, too                         -0.189940   \n",
       "Data science is fun                              1.000000   \n",
       "Python is great for machine learning             0.999826   \n",
       "I like football                                  0.776342   \n",
       "Football is great to watch                       0.855956   \n",
       "\n",
       "                                      Python is great for machine learning  \\\n",
       "Machine learning is super fun                                     0.888530   \n",
       "Python is super, super cool                                       0.254682   \n",
       "Statistics is cool, too                                          -0.171606   \n",
       "Data science is fun                                               0.999826   \n",
       "Python is great for machine learning                              1.000000   \n",
       "I like football                                                   0.764458   \n",
       "Football is great to watch                                        0.846169   \n",
       "\n",
       "                                      I like football  \\\n",
       "Machine learning is super fun                0.383455   \n",
       "Python is super, super cool                 -0.428723   \n",
       "Statistics is cool, too                     -0.766296   \n",
       "Data science is fun                          0.776342   \n",
       "Python is great for machine learning         0.764458   \n",
       "I like football                              1.000000   \n",
       "Football is great to watch                   0.990417   \n",
       "\n",
       "                                      Football is great to watch  \n",
       "Machine learning is super fun                           0.507335  \n",
       "Python is super, super cool                            -0.299838  \n",
       "Statistics is cool, too                                -0.670217  \n",
       "Data science is fun                                     0.855956  \n",
       "Python is great for machine learning                    0.846169  \n",
       "I like football                                         0.990417  \n",
       "Football is great to watch                              1.000000  "
      ]
     },
     "execution_count": 22,
     "metadata": {},
     "output_type": "execute_result"
    }
   ],
   "source": [
    "#Compute document similarity using LSA components\n",
    "similarity = np.asarray(numpy.asmatrix(dtm_lsa) * numpy.asmatrix(dtm_lsa).T)\n",
    "pd.DataFrame(similarity,index=example, columns=example).head(10)"
   ]
  },
  {
   "cell_type": "markdown",
   "metadata": {},
   "source": [
    "# Summary\n",
    "\n",
    "With aforementioned methods in place we now have a framework to load documents into our database and then query them using semantic search. This general method is what I would apply to the Patent database search problem definition.\n",
    "\n",
    "## Improvements and next steps:\n",
    "\n",
    "* Vectorize with TFIDF (term-frequency inverse document-frequency: uses overall frequency of words to weight\n",
    "document-term matrix)\n",
    "* Use LSA components as features in machine learning algorithm: clustering, classification, regression\n",
    "* Alternative dimensionality reduction: Isomap, Random Matrix Methods, Laplacian Eigenmaps, Kernel PCA (cool\n",
    "names!)"
   ]
  },
  {
   "cell_type": "code",
   "execution_count": null,
   "metadata": {
    "collapsed": true
   },
   "outputs": [],
   "source": []
  }
 ],
 "metadata": {
  "kernelspec": {
   "display_name": "Python 2",
   "language": "python",
   "name": "python2"
  },
  "language_info": {
   "codemirror_mode": {
    "name": "ipython",
    "version": 2
   },
   "file_extension": ".py",
   "mimetype": "text/x-python",
   "name": "python",
   "nbconvert_exporter": "python",
   "pygments_lexer": "ipython2",
   "version": "2.7.11"
  }
 },
 "nbformat": 4,
 "nbformat_minor": 0
}
