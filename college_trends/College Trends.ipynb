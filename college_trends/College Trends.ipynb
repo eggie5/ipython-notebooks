{
 "cells": [
  {
   "cell_type": "markdown",
   "metadata": {},
   "source": [
    "# College Trends"
   ]
  },
  {
   "cell_type": "markdown",
   "metadata": {},
   "source": [
    "The American Community Survey is a survey run by the US Census Bureau that collects data on everything from the affordability of housing to employment rates for different industries. For this challenge, you'll be using the data derived from the American Community Survey for years 2010-2012. The team at FiveThirtyEight has cleaned the dataset and made it available on their Github repo.\n",
    "\n",
    "Here's a quick overview of the files we'll be working with:\n",
    "\n",
    "* all-ages.csv - employment data by major for all ages\n",
    "* recent-grads.csv - employment data by major for just recent college graduates\n",
    "\n",
    "By completing this challenge, you will test your comfort with Pandas for manipulating DataFrames and calculating summary statistics.\n",
    "\n"
   ]
  },
  {
   "cell_type": "code",
   "execution_count": 1,
   "metadata": {
    "collapsed": false
   },
   "outputs": [
    {
     "data": {
      "text/html": [
       "<div>\n",
       "<table border=\"1\" class=\"dataframe\">\n",
       "  <thead>\n",
       "    <tr style=\"text-align: right;\">\n",
       "      <th></th>\n",
       "      <th>Major_code</th>\n",
       "      <th>Major</th>\n",
       "      <th>Major_category</th>\n",
       "      <th>Total</th>\n",
       "      <th>Employed</th>\n",
       "      <th>Employed_full_time_year_round</th>\n",
       "      <th>Unemployed</th>\n",
       "      <th>Unemployment_rate</th>\n",
       "      <th>Median</th>\n",
       "      <th>P25th</th>\n",
       "      <th>P75th</th>\n",
       "    </tr>\n",
       "  </thead>\n",
       "  <tbody>\n",
       "    <tr>\n",
       "      <th>0</th>\n",
       "      <td>1100</td>\n",
       "      <td>GENERAL AGRICULTURE</td>\n",
       "      <td>Agriculture &amp; Natural Resources</td>\n",
       "      <td>128148</td>\n",
       "      <td>90245</td>\n",
       "      <td>74078</td>\n",
       "      <td>2423</td>\n",
       "      <td>0.026147</td>\n",
       "      <td>50000</td>\n",
       "      <td>34000</td>\n",
       "      <td>80000</td>\n",
       "    </tr>\n",
       "    <tr>\n",
       "      <th>1</th>\n",
       "      <td>1101</td>\n",
       "      <td>AGRICULTURE PRODUCTION AND MANAGEMENT</td>\n",
       "      <td>Agriculture &amp; Natural Resources</td>\n",
       "      <td>95326</td>\n",
       "      <td>76865</td>\n",
       "      <td>64240</td>\n",
       "      <td>2266</td>\n",
       "      <td>0.028636</td>\n",
       "      <td>54000</td>\n",
       "      <td>36000</td>\n",
       "      <td>80000</td>\n",
       "    </tr>\n",
       "    <tr>\n",
       "      <th>2</th>\n",
       "      <td>1102</td>\n",
       "      <td>AGRICULTURAL ECONOMICS</td>\n",
       "      <td>Agriculture &amp; Natural Resources</td>\n",
       "      <td>33955</td>\n",
       "      <td>26321</td>\n",
       "      <td>22810</td>\n",
       "      <td>821</td>\n",
       "      <td>0.030248</td>\n",
       "      <td>63000</td>\n",
       "      <td>40000</td>\n",
       "      <td>98000</td>\n",
       "    </tr>\n",
       "    <tr>\n",
       "      <th>3</th>\n",
       "      <td>1103</td>\n",
       "      <td>ANIMAL SCIENCES</td>\n",
       "      <td>Agriculture &amp; Natural Resources</td>\n",
       "      <td>103549</td>\n",
       "      <td>81177</td>\n",
       "      <td>64937</td>\n",
       "      <td>3619</td>\n",
       "      <td>0.042679</td>\n",
       "      <td>46000</td>\n",
       "      <td>30000</td>\n",
       "      <td>72000</td>\n",
       "    </tr>\n",
       "    <tr>\n",
       "      <th>4</th>\n",
       "      <td>1104</td>\n",
       "      <td>FOOD SCIENCE</td>\n",
       "      <td>Agriculture &amp; Natural Resources</td>\n",
       "      <td>24280</td>\n",
       "      <td>17281</td>\n",
       "      <td>12722</td>\n",
       "      <td>894</td>\n",
       "      <td>0.049188</td>\n",
       "      <td>62000</td>\n",
       "      <td>38500</td>\n",
       "      <td>90000</td>\n",
       "    </tr>\n",
       "  </tbody>\n",
       "</table>\n",
       "</div>"
      ],
      "text/plain": [
       "   Major_code                                  Major  \\\n",
       "0        1100                    GENERAL AGRICULTURE   \n",
       "1        1101  AGRICULTURE PRODUCTION AND MANAGEMENT   \n",
       "2        1102                 AGRICULTURAL ECONOMICS   \n",
       "3        1103                        ANIMAL SCIENCES   \n",
       "4        1104                           FOOD SCIENCE   \n",
       "\n",
       "                    Major_category   Total  Employed  \\\n",
       "0  Agriculture & Natural Resources  128148     90245   \n",
       "1  Agriculture & Natural Resources   95326     76865   \n",
       "2  Agriculture & Natural Resources   33955     26321   \n",
       "3  Agriculture & Natural Resources  103549     81177   \n",
       "4  Agriculture & Natural Resources   24280     17281   \n",
       "\n",
       "   Employed_full_time_year_round  Unemployed  Unemployment_rate  Median  \\\n",
       "0                          74078        2423           0.026147   50000   \n",
       "1                          64240        2266           0.028636   54000   \n",
       "2                          22810         821           0.030248   63000   \n",
       "3                          64937        3619           0.042679   46000   \n",
       "4                          12722         894           0.049188   62000   \n",
       "\n",
       "   P25th  P75th  \n",
       "0  34000  80000  \n",
       "1  36000  80000  \n",
       "2  40000  98000  \n",
       "3  30000  72000  \n",
       "4  38500  90000  "
      ]
     },
     "execution_count": 1,
     "metadata": {},
     "output_type": "execute_result"
    }
   ],
   "source": [
    "import pandas as pd\n",
    "\n",
    "all_ages = pd.read_csv(\"all-ages.csv\")\n",
    "all_ages.head(5)"
   ]
  },
  {
   "cell_type": "markdown",
   "metadata": {},
   "source": [
    "In both of these datasets, majors are grouped into categories. As you may have noticed, there are multiple rows with a common value for Major_category but different values for Major. We would like to know the total number of people in each Major_category for both datasets.\n",
    "\n",
    "Instructions\n",
    "\n",
    "Use the Total column to calculate the number of people who fall under each Major_category and store the result as a separate dictionary for each dataset. The key for the dictionary should be the Major_category and the value should be the total count. For the counts fromall_ages, store the results as a dictionary named all_ages_major_categories and for the counts from recent-grads, store the results as a dictionary named `recent_grads_major_categories`."
   ]
  },
  {
   "cell_type": "code",
   "execution_count": 23,
   "metadata": {
    "collapsed": false
   },
   "outputs": [
    {
     "data": {
      "text/plain": [
       "Major_category\n",
       "Agriculture & Natural Resources         632437\n",
       "Arts                                   1805865\n",
       "Biology & Life Science                 1338186\n",
       "Business                               9858741\n",
       "Communications & Journalism            1803822\n",
       "Computers & Mathematics                1781378\n",
       "Education                              4700118\n",
       "Engineering                            3576013\n",
       "Health                                 2950859\n",
       "Humanities & Liberal Arts              3738335\n",
       "Industrial Arts & Consumer Services    1033798\n",
       "Interdisciplinary                        45199\n",
       "Law & Public Policy                     902926\n",
       "Physical Sciences                      1025318\n",
       "Psychology & Social Work               1987278\n",
       "Social Science                         2654125\n",
       "Name: Total, dtype: int64"
      ]
     },
     "execution_count": 23,
     "metadata": {},
     "output_type": "execute_result"
    }
   ],
   "source": [
    "all_ages = pd.read_csv(\"all-ages.csv\")\n",
    "all_ages_totals  = all_ages.pivot_table(index=\"Major_category\", aggfunc=\"sum\")[\"Total\"]\n",
    "all_ages_totals"
   ]
  },
  {
   "cell_type": "code",
   "execution_count": 22,
   "metadata": {
    "collapsed": false
   },
   "outputs": [
    {
     "data": {
      "text/plain": [
       "Major_category\n",
       "Agriculture & Natural Resources          79981\n",
       "Arts                                    357130\n",
       "Biology & Life Science                  453862\n",
       "Business                               1302376\n",
       "Communications & Journalism             392601\n",
       "Computers & Mathematics                 299008\n",
       "Education                               559129\n",
       "Engineering                             537583\n",
       "Health                                  463230\n",
       "Humanities & Liberal Arts               713468\n",
       "Industrial Arts & Consumer Services     229792\n",
       "Interdisciplinary                        12296\n",
       "Law & Public Policy                     179107\n",
       "Physical Sciences                       185479\n",
       "Psychology & Social Work                481007\n",
       "Social Science                          529966\n",
       "Name: Total, dtype: int64"
      ]
     },
     "execution_count": 22,
     "metadata": {},
     "output_type": "execute_result"
    }
   ],
   "source": [
    "recent_grads = pd.read_csv(\"recent-grads.csv\")\n",
    "recent_totals = recent_grads.pivot_table(index=\"Major_category\", aggfunc=\"sum\")[\"Total\"]\n",
    "recent_totals"
   ]
  },
  {
   "cell_type": "markdown",
   "metadata": {},
   "source": [
    "## Low wage jobs rates"
   ]
  },
  {
   "cell_type": "markdown",
   "metadata": {},
   "source": [
    "The press likes to talk a lot about how many college grads are unable to get higher wage, skilled jobs and end up working lower wage, unskilled jobs instead. As a data person, it is your job to be skeptical of any broad claims and explore if you can acquire and analyze relevant data to obtain a more nuanced view. Let's run some basic calculations to explore that idea further.\n",
    "\n",
    "Instructions\n",
    "\n",
    "Use the Low_wage_jobs and Total columns to calculate the proportion of recent college graduates that worked low wage jobs. Store the resulting Float object of the calculation as low_wage_percent."
   ]
  },
  {
   "cell_type": "code",
   "execution_count": 19,
   "metadata": {
    "collapsed": false
   },
   "outputs": [
    {
     "data": {
      "text/plain": [
       "0.12371514957893746"
      ]
     },
     "execution_count": 19,
     "metadata": {},
     "output_type": "execute_result"
    }
   ],
   "source": [
    "recent_grads = pd.read_csv(\"recent-grads.csv\")\n",
    "low_wage_percent = 0.0\n",
    "\n",
    "low_wage_sum = float(recent_grads[\"Low_wage_jobs\"].sum())\n",
    "recent_sum = float(recent_grads[\"Employed\"].sum())\n",
    "\n",
    "low_wage_percent = low_wage_sum / recent_sum\n",
    "low_wage_percent"
   ]
  },
  {
   "cell_type": "markdown",
   "metadata": {},
   "source": [
    "## Comparing datasets"
   ]
  },
  {
   "cell_type": "markdown",
   "metadata": {},
   "source": [
    "Both all_ages and recent_grads datasets have 173 rows, corresponding to the 173 college major codes. This enables us to do some comparisons between the two datasets and perform some initial calculations to see how similar or different the statistics of recent college graduates are from those of the entire population.\n",
    "\n",
    "Instructions\n",
    "\n",
    "We want to know the number of majors where recent grads fare better than the overall population. For each major, determine if the Unemployment_rate is lower for recent_grads or for all_ages and increment either recent_grads_lower_emp_count or all_ages_lower_emp_count respectively."
   ]
  },
  {
   "cell_type": "code",
   "execution_count": 24,
   "metadata": {
    "collapsed": false
   },
   "outputs": [
    {
     "name": "stdout",
     "output_type": "stream",
     "text": [
      "43\n",
      "128\n"
     ]
    }
   ],
   "source": [
    "# All majors, common to both DataFrames\n",
    "majors = recent_grads['Major'].value_counts().index\n",
    "\n",
    "recent_grads_lower_emp_count = 0\n",
    "all_ages_lower_emp_count = 0\n",
    "\n",
    "for major in majors:\n",
    "    recent_rate = recent_grads[recent_grads[\"Major\"]==major][\"Unemployment_rate\"].values[0]\n",
    "    all_time_rate = all_ages[all_ages[\"Major\"]==major][\"Unemployment_rate\"].values[0]\n",
    "    diff = recent_rate - all_time_rate #comparator\n",
    "    \n",
    "    if diff < 0:\n",
    "        recent_grads_lower_emp_count +=  1\n",
    "    elif diff >0:\n",
    "        all_ages_lower_emp_count += 1\n",
    "    else:\n",
    "        pass #equal\n",
    "        \n",
    "print recent_grads_lower_emp_count\n",
    "print all_ages_lower_emp_count"
   ]
  },
  {
   "cell_type": "code",
   "execution_count": null,
   "metadata": {
    "collapsed": true
   },
   "outputs": [],
   "source": []
  }
 ],
 "metadata": {
  "kernelspec": {
   "display_name": "Python 2",
   "language": "python",
   "name": "python2"
  },
  "language_info": {
   "codemirror_mode": {
    "name": "ipython",
    "version": 2
   },
   "file_extension": ".py",
   "mimetype": "text/x-python",
   "name": "python",
   "nbconvert_exporter": "python",
   "pygments_lexer": "ipython2",
   "version": "2.7.10"
  }
 },
 "nbformat": 4,
 "nbformat_minor": 0
}
